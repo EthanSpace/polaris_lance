{
 "cells": [
  {
   "cell_type": "code",
   "execution_count": null,
   "id": "da134391",
   "metadata": {},
   "outputs": [],
   "source": [
    "bins = pd.qcut(raw_data.AVTOT, q = 10, precision = 0)\n",
    "counts = bins.value_counts()\n",
    "table = pd.concat([counts, counts/len(raw_data.AVTOT)], axis = 1, keys = ['counts', 'proportion'])\n",
    "table"
   ]
  }
 ],
 "metadata": {
  "kernelspec": {
   "display_name": "Python 3 (ipykernel)",
   "language": "python",
   "name": "python3"
  },
  "language_info": {
   "codemirror_mode": {
    "name": "ipython",
    "version": 3
   },
   "file_extension": ".py",
   "mimetype": "text/x-python",
   "name": "python",
   "nbconvert_exporter": "python",
   "pygments_lexer": "ipython3",
   "version": "3.8.16"
  }
 },
 "nbformat": 4,
 "nbformat_minor": 5
}
