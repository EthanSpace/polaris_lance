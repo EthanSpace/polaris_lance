{
 "cells": [
  {
   "cell_type": "code",
   "execution_count": null,
   "id": "da134391",
   "metadata": {},
   "outputs": [],
   "source": [
    "bins = pd.qcut(raw_data.AVTOT, q = 10, precision = 0)\n",
    "counts = bins.value_counts()\n",
    "table = pd.concat([counts, counts/len(raw_data.AVTOT)], axis = 1, keys = ['counts', 'proportion'])\n",
    "table"
   ]
  },
  {
   "cell_type": "code",
   "execution_count": null,
   "id": "38084acf",
   "metadata": {},
   "outputs": [],
   "source": [
    "import folium\n",
    "\n",
    "# Create a map object centered at a specific location\n",
    "m = folium.Map(location=[45.5236, -122.6750], zoom_start=17)\n",
    "\n",
    "# Add markers to the map at specific locations\n",
    "folium.Marker(location=[45.5236, -122.6750], popup='Portland').add_to(m)\n",
    "folium.Marker(location=[45.5231, -122.6765], popup='Portland State University').add_to(m)\n",
    "\n",
    "# Display the map\n",
    "m"
   ]
  }
 ],
 "metadata": {
  "kernelspec": {
   "display_name": "Python 3 (ipykernel)",
   "language": "python",
   "name": "python3"
  },
  "language_info": {
   "codemirror_mode": {
    "name": "ipython",
    "version": 3
   },
   "file_extension": ".py",
   "mimetype": "text/x-python",
   "name": "python",
   "nbconvert_exporter": "python",
   "pygments_lexer": "ipython3",
   "version": "3.9.16"
  }
 },
 "nbformat": 4,
 "nbformat_minor": 5
}
